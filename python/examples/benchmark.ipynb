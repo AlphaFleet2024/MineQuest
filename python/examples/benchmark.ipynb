{
 "cells": [
  {
   "cell_type": "code",
   "execution_count": 1,
   "metadata": {},
   "outputs": [],
   "source": [
    "%load_ext autoreload\n",
    "%autoreload 1"
   ]
  },
  {
   "cell_type": "code",
   "execution_count": 2,
   "metadata": {},
   "outputs": [
    {
     "name": "stderr",
     "output_type": "stream",
     "text": [
      "kj/filesystem-disk-unix.c++:1703: warning: PWD environment variable doesn't match current directory; pwd = /home/eric\n",
      "logging to /tmp/minetest_cg1h1mwp/artifacts/log\n"
     ]
    }
   ],
   "source": [
    "import os\n",
    "import tempfile\n",
    "import time\n",
    "\n",
    "import numpy as np\n",
    "from tqdm.notebook import trange\n",
    "\n",
    "%aimport minetest\n",
    "\n",
    "temp_dir = tempfile.mkdtemp(prefix=\"minetest_\")\n",
    "game_dir = os.path.join(os.environ[\"CONDA_PREFIX\"], \"share/minetest/games/devtest\")\n",
    "# install devtest game if needed\n",
    "if not os.path.exists(game_dir):\n",
    "    os.makedirs(os.path.dirname(game_dir), exist_ok=True)\n",
    "    os.symlink(os.path.realpath(os.path.join(os.getcwd(), \"../../games/devtest\")), game_dir)\n",
    "\n",
    "def benchmark(env, get_action):\n",
    "    with env:\n",
    "        env.reset()\n",
    "        start = time.time()\n",
    "        n_iters = 900\n",
    "        for _ in trange(n_iters):\n",
    "            action = get_action(env)\n",
    "            observation, reward, done, truncated, info = env.step(action)\n",
    "            if done:\n",
    "                break\n",
    "        stop = time.time()\n",
    "        print(\"FPS:\", n_iters / (stop - start))\n",
    "\n",
    "def sample_action(env):\n",
    "    return env.action_space.sample()\n",
    "\n",
    "empty_action = {\"KEYS\": np.ndarray(0), \"MOUSE\": [0, 0]}\n",
    "\n",
    "\n",
    "def get_empty_action(env):\n",
    "    return empty_action\n",
    "\n",
    "env = minetest.MinetestEnv(\n",
    "    executable=\"/home/eric/minetest/bin/minetest\",\n",
    "    artifact_dir=os.path.join(temp_dir, \"artifacts\"),\n",
    "    game_dir=game_dir,\n",
    "    headless=True,\n",
    "    log_to_stderr=True,\n",
    ")"
   ]
  },
  {
   "cell_type": "markdown",
   "metadata": {},
   "source": [
    "## Sample action"
   ]
  },
  {
   "cell_type": "code",
   "execution_count": 3,
   "metadata": {},
   "outputs": [
    {
     "name": "stderr",
     "output_type": "stream",
     "text": [
      "incrementing socket\n",
      "Started Xvfb with PID 35766 on :222\n",
      "sleeping to wait for xvfb to start.\n",
      "Client started with pid 35785\n",
      "capnp_client.init()...\n",
      "Waiting for first obs...\n",
      "Received first obs: (400, 600, 3)\n"
     ]
    },
    {
     "data": {
      "application/vnd.jupyter.widget-view+json": {
       "model_id": "ecf70b892e5c415db65cadbfb383e4f8",
       "version_major": 2,
       "version_minor": 0
      },
      "text/plain": [
       "  0%|          | 0/900 [00:00<?, ?it/s]"
      ]
     },
     "metadata": {},
     "output_type": "display_data"
    },
    {
     "name": "stdout",
     "output_type": "stream",
     "text": [
      "FPS: 19.9377668379828\n"
     ]
    }
   ],
   "source": [
    "benchmark(env, get_empty_action)"
   ]
  },
  {
   "cell_type": "code",
   "execution_count": null,
   "metadata": {},
   "outputs": [],
   "source": []
  }
 ],
 "metadata": {
  "kernelspec": {
   "display_name": "minetest-python-example",
   "language": "python",
   "name": "python3"
  },
  "language_info": {
   "codemirror_mode": {
    "name": "ipython",
    "version": 3
   },
   "file_extension": ".py",
   "mimetype": "text/x-python",
   "name": "python",
   "nbconvert_exporter": "python",
   "pygments_lexer": "ipython3",
   "version": "3.10.14"
  }
 },
 "nbformat": 4,
 "nbformat_minor": 2
}
